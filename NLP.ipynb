{
  "nbformat": 4,
  "nbformat_minor": 0,
  "metadata": {
    "colab": {
      "provenance": [],
      "collapsed_sections": [
        "dbDTo8_oNULc"
      ]
    },
    "kernelspec": {
      "name": "python3",
      "display_name": "Python 3"
    },
    "language_info": {
      "name": "python"
    }
  },
  "cells": [
    {
      "cell_type": "code",
      "execution_count": null,
      "metadata": {
        "id": "tx0s6oeIpp_T"
      },
      "outputs": [],
      "source": [
        "import pandas as pd\n",
        "import numpy as np\n",
        "from tqdm import tqdm\n",
        "from keras.preprocessing.text import Tokenizer\n",
        "tqdm.pandas(desc=\"progress-bar\")\n",
        "from gensim.models import Doc2Vec\n",
        "from sklearn import utils\n",
        "from sklearn.model_selection import train_test_split\n",
        "from keras.preprocessing.sequence import pad_sequences\n",
        "import gensim\n",
        "from sklearn.linear_model import LogisticRegression\n",
        "from gensim.models.doc2vec import TaggedDocument\n",
        "import re\n",
        "import seaborn as sns\n",
        "import matplotlib.pyplot as plt"
      ]
    },
    {
      "cell_type": "markdown",
      "source": [
        "#Getting the data as dataframe"
      ],
      "metadata": {
        "id": "dbDTo8_oNULc"
      }
    },
    {
      "cell_type": "code",
      "source": [
        "df = pd.read_csv('all-data.csv',delimiter=',',encoding='latin-1')\n",
        "df.head()"
      ],
      "metadata": {
        "colab": {
          "base_uri": "https://localhost:8080/"
        },
        "id": "nW8yA2j2qD7K",
        "outputId": "d0964395-5dd9-4609-b7fd-b4b4fad0b890"
      },
      "execution_count": null,
      "outputs": [
        {
          "output_type": "execute_result",
          "data": {
            "text/plain": [
              "    neutral  \\\n",
              "0   neutral   \n",
              "1  negative   \n",
              "2  positive   \n",
              "3  positive   \n",
              "4  positive   \n",
              "\n",
              "  According to Gran , the company has no plans to move all production to Russia , although that is where the company is growing .  \n",
              "0  Technopolis plans to develop in stages an area...                                                                               \n",
              "1  The international electronic industry company ...                                                                               \n",
              "2  With the new production plant the company woul...                                                                               \n",
              "3  According to the company 's updated strategy f...                                                                               \n",
              "4  FINANCING OF ASPOCOMP 'S GROWTH Aspocomp is ag...                                                                               "
            ],
            "text/html": [
              "\n",
              "  <div id=\"df-ad657347-13e7-4742-8ab1-8fe544d5e482\" class=\"colab-df-container\">\n",
              "    <div>\n",
              "<style scoped>\n",
              "    .dataframe tbody tr th:only-of-type {\n",
              "        vertical-align: middle;\n",
              "    }\n",
              "\n",
              "    .dataframe tbody tr th {\n",
              "        vertical-align: top;\n",
              "    }\n",
              "\n",
              "    .dataframe thead th {\n",
              "        text-align: right;\n",
              "    }\n",
              "</style>\n",
              "<table border=\"1\" class=\"dataframe\">\n",
              "  <thead>\n",
              "    <tr style=\"text-align: right;\">\n",
              "      <th></th>\n",
              "      <th>neutral</th>\n",
              "      <th>According to Gran , the company has no plans to move all production to Russia , although that is where the company is growing .</th>\n",
              "    </tr>\n",
              "  </thead>\n",
              "  <tbody>\n",
              "    <tr>\n",
              "      <th>0</th>\n",
              "      <td>neutral</td>\n",
              "      <td>Technopolis plans to develop in stages an area...</td>\n",
              "    </tr>\n",
              "    <tr>\n",
              "      <th>1</th>\n",
              "      <td>negative</td>\n",
              "      <td>The international electronic industry company ...</td>\n",
              "    </tr>\n",
              "    <tr>\n",
              "      <th>2</th>\n",
              "      <td>positive</td>\n",
              "      <td>With the new production plant the company woul...</td>\n",
              "    </tr>\n",
              "    <tr>\n",
              "      <th>3</th>\n",
              "      <td>positive</td>\n",
              "      <td>According to the company 's updated strategy f...</td>\n",
              "    </tr>\n",
              "    <tr>\n",
              "      <th>4</th>\n",
              "      <td>positive</td>\n",
              "      <td>FINANCING OF ASPOCOMP 'S GROWTH Aspocomp is ag...</td>\n",
              "    </tr>\n",
              "  </tbody>\n",
              "</table>\n",
              "</div>\n",
              "    <div class=\"colab-df-buttons\">\n",
              "\n",
              "  <div class=\"colab-df-container\">\n",
              "    <button class=\"colab-df-convert\" onclick=\"convertToInteractive('df-ad657347-13e7-4742-8ab1-8fe544d5e482')\"\n",
              "            title=\"Convert this dataframe to an interactive table.\"\n",
              "            style=\"display:none;\">\n",
              "\n",
              "  <svg xmlns=\"http://www.w3.org/2000/svg\" height=\"24px\" viewBox=\"0 -960 960 960\">\n",
              "    <path d=\"M120-120v-720h720v720H120Zm60-500h600v-160H180v160Zm220 220h160v-160H400v160Zm0 220h160v-160H400v160ZM180-400h160v-160H180v160Zm440 0h160v-160H620v160ZM180-180h160v-160H180v160Zm440 0h160v-160H620v160Z\"/>\n",
              "  </svg>\n",
              "    </button>\n",
              "\n",
              "  <style>\n",
              "    .colab-df-container {\n",
              "      display:flex;\n",
              "      gap: 12px;\n",
              "    }\n",
              "\n",
              "    .colab-df-convert {\n",
              "      background-color: #E8F0FE;\n",
              "      border: none;\n",
              "      border-radius: 50%;\n",
              "      cursor: pointer;\n",
              "      display: none;\n",
              "      fill: #1967D2;\n",
              "      height: 32px;\n",
              "      padding: 0 0 0 0;\n",
              "      width: 32px;\n",
              "    }\n",
              "\n",
              "    .colab-df-convert:hover {\n",
              "      background-color: #E2EBFA;\n",
              "      box-shadow: 0px 1px 2px rgba(60, 64, 67, 0.3), 0px 1px 3px 1px rgba(60, 64, 67, 0.15);\n",
              "      fill: #174EA6;\n",
              "    }\n",
              "\n",
              "    .colab-df-buttons div {\n",
              "      margin-bottom: 4px;\n",
              "    }\n",
              "\n",
              "    [theme=dark] .colab-df-convert {\n",
              "      background-color: #3B4455;\n",
              "      fill: #D2E3FC;\n",
              "    }\n",
              "\n",
              "    [theme=dark] .colab-df-convert:hover {\n",
              "      background-color: #434B5C;\n",
              "      box-shadow: 0px 1px 3px 1px rgba(0, 0, 0, 0.15);\n",
              "      filter: drop-shadow(0px 1px 2px rgba(0, 0, 0, 0.3));\n",
              "      fill: #FFFFFF;\n",
              "    }\n",
              "  </style>\n",
              "\n",
              "    <script>\n",
              "      const buttonEl =\n",
              "        document.querySelector('#df-ad657347-13e7-4742-8ab1-8fe544d5e482 button.colab-df-convert');\n",
              "      buttonEl.style.display =\n",
              "        google.colab.kernel.accessAllowed ? 'block' : 'none';\n",
              "\n",
              "      async function convertToInteractive(key) {\n",
              "        const element = document.querySelector('#df-ad657347-13e7-4742-8ab1-8fe544d5e482');\n",
              "        const dataTable =\n",
              "          await google.colab.kernel.invokeFunction('convertToInteractive',\n",
              "                                                    [key], {});\n",
              "        if (!dataTable) return;\n",
              "\n",
              "        const docLinkHtml = 'Like what you see? Visit the ' +\n",
              "          '<a target=\"_blank\" href=https://colab.research.google.com/notebooks/data_table.ipynb>data table notebook</a>'\n",
              "          + ' to learn more about interactive tables.';\n",
              "        element.innerHTML = '';\n",
              "        dataTable['output_type'] = 'display_data';\n",
              "        await google.colab.output.renderOutput(dataTable, element);\n",
              "        const docLink = document.createElement('div');\n",
              "        docLink.innerHTML = docLinkHtml;\n",
              "        element.appendChild(docLink);\n",
              "      }\n",
              "    </script>\n",
              "  </div>\n",
              "\n",
              "\n",
              "<div id=\"df-275f2573-d406-4489-b2ff-447505428731\">\n",
              "  <button class=\"colab-df-quickchart\" onclick=\"quickchart('df-275f2573-d406-4489-b2ff-447505428731')\"\n",
              "            title=\"Suggest charts\"\n",
              "            style=\"display:none;\">\n",
              "\n",
              "<svg xmlns=\"http://www.w3.org/2000/svg\" height=\"24px\"viewBox=\"0 0 24 24\"\n",
              "     width=\"24px\">\n",
              "    <g>\n",
              "        <path d=\"M19 3H5c-1.1 0-2 .9-2 2v14c0 1.1.9 2 2 2h14c1.1 0 2-.9 2-2V5c0-1.1-.9-2-2-2zM9 17H7v-7h2v7zm4 0h-2V7h2v10zm4 0h-2v-4h2v4z\"/>\n",
              "    </g>\n",
              "</svg>\n",
              "  </button>\n",
              "\n",
              "<style>\n",
              "  .colab-df-quickchart {\n",
              "      --bg-color: #E8F0FE;\n",
              "      --fill-color: #1967D2;\n",
              "      --hover-bg-color: #E2EBFA;\n",
              "      --hover-fill-color: #174EA6;\n",
              "      --disabled-fill-color: #AAA;\n",
              "      --disabled-bg-color: #DDD;\n",
              "  }\n",
              "\n",
              "  [theme=dark] .colab-df-quickchart {\n",
              "      --bg-color: #3B4455;\n",
              "      --fill-color: #D2E3FC;\n",
              "      --hover-bg-color: #434B5C;\n",
              "      --hover-fill-color: #FFFFFF;\n",
              "      --disabled-bg-color: #3B4455;\n",
              "      --disabled-fill-color: #666;\n",
              "  }\n",
              "\n",
              "  .colab-df-quickchart {\n",
              "    background-color: var(--bg-color);\n",
              "    border: none;\n",
              "    border-radius: 50%;\n",
              "    cursor: pointer;\n",
              "    display: none;\n",
              "    fill: var(--fill-color);\n",
              "    height: 32px;\n",
              "    padding: 0;\n",
              "    width: 32px;\n",
              "  }\n",
              "\n",
              "  .colab-df-quickchart:hover {\n",
              "    background-color: var(--hover-bg-color);\n",
              "    box-shadow: 0 1px 2px rgba(60, 64, 67, 0.3), 0 1px 3px 1px rgba(60, 64, 67, 0.15);\n",
              "    fill: var(--button-hover-fill-color);\n",
              "  }\n",
              "\n",
              "  .colab-df-quickchart-complete:disabled,\n",
              "  .colab-df-quickchart-complete:disabled:hover {\n",
              "    background-color: var(--disabled-bg-color);\n",
              "    fill: var(--disabled-fill-color);\n",
              "    box-shadow: none;\n",
              "  }\n",
              "\n",
              "  .colab-df-spinner {\n",
              "    border: 2px solid var(--fill-color);\n",
              "    border-color: transparent;\n",
              "    border-bottom-color: var(--fill-color);\n",
              "    animation:\n",
              "      spin 1s steps(1) infinite;\n",
              "  }\n",
              "\n",
              "  @keyframes spin {\n",
              "    0% {\n",
              "      border-color: transparent;\n",
              "      border-bottom-color: var(--fill-color);\n",
              "      border-left-color: var(--fill-color);\n",
              "    }\n",
              "    20% {\n",
              "      border-color: transparent;\n",
              "      border-left-color: var(--fill-color);\n",
              "      border-top-color: var(--fill-color);\n",
              "    }\n",
              "    30% {\n",
              "      border-color: transparent;\n",
              "      border-left-color: var(--fill-color);\n",
              "      border-top-color: var(--fill-color);\n",
              "      border-right-color: var(--fill-color);\n",
              "    }\n",
              "    40% {\n",
              "      border-color: transparent;\n",
              "      border-right-color: var(--fill-color);\n",
              "      border-top-color: var(--fill-color);\n",
              "    }\n",
              "    60% {\n",
              "      border-color: transparent;\n",
              "      border-right-color: var(--fill-color);\n",
              "    }\n",
              "    80% {\n",
              "      border-color: transparent;\n",
              "      border-right-color: var(--fill-color);\n",
              "      border-bottom-color: var(--fill-color);\n",
              "    }\n",
              "    90% {\n",
              "      border-color: transparent;\n",
              "      border-bottom-color: var(--fill-color);\n",
              "    }\n",
              "  }\n",
              "</style>\n",
              "\n",
              "  <script>\n",
              "    async function quickchart(key) {\n",
              "      const quickchartButtonEl =\n",
              "        document.querySelector('#' + key + ' button');\n",
              "      quickchartButtonEl.disabled = true;  // To prevent multiple clicks.\n",
              "      quickchartButtonEl.classList.add('colab-df-spinner');\n",
              "      try {\n",
              "        const charts = await google.colab.kernel.invokeFunction(\n",
              "            'suggestCharts', [key], {});\n",
              "      } catch (error) {\n",
              "        console.error('Error during call to suggestCharts:', error);\n",
              "      }\n",
              "      quickchartButtonEl.classList.remove('colab-df-spinner');\n",
              "      quickchartButtonEl.classList.add('colab-df-quickchart-complete');\n",
              "    }\n",
              "    (() => {\n",
              "      let quickchartButtonEl =\n",
              "        document.querySelector('#df-275f2573-d406-4489-b2ff-447505428731 button');\n",
              "      quickchartButtonEl.style.display =\n",
              "        google.colab.kernel.accessAllowed ? 'block' : 'none';\n",
              "    })();\n",
              "  </script>\n",
              "</div>\n",
              "    </div>\n",
              "  </div>\n"
            ],
            "application/vnd.google.colaboratory.intrinsic+json": {
              "type": "dataframe",
              "variable_name": "df",
              "summary": "{\n  \"name\": \"df\",\n  \"rows\": 4845,\n  \"fields\": [\n    {\n      \"column\": \"neutral\",\n      \"properties\": {\n        \"dtype\": \"category\",\n        \"num_unique_values\": 3,\n        \"samples\": [\n          \"neutral\",\n          \"negative\",\n          \"positive\"\n        ],\n        \"semantic_type\": \"\",\n        \"description\": \"\"\n      }\n    },\n    {\n      \"column\": \"According to Gran , the company has no plans to move all production to Russia , although that is where the company is growing .\",\n      \"properties\": {\n        \"dtype\": \"string\",\n        \"num_unique_values\": 4837,\n        \"samples\": [\n          \"The company serves customers in various industries , including process and resources , industrial machinery , architecture , building , construction , electrical , transportation , electronics , chemical , petrochemical , energy , and information technology , as well as catering and households .\",\n          \"Only L+\\u00c6nnen Tehtaat showed a loss , but it has only recently started streamlining measures .\",\n          \"The extracted filtrates are very high in clarity while the dried filter cakes meet required transport moisture limits (TMLs)for their ore grades .\"\n        ],\n        \"semantic_type\": \"\",\n        \"description\": \"\"\n      }\n    }\n  ]\n}"
            }
          },
          "metadata": {},
          "execution_count": 2
        }
      ]
    },
    {
      "cell_type": "code",
      "source": [
        "df.rename(columns={'neutral':'Sentiment','According to Gran , the company has no plans to move all production to Russia , although that is where the company is growing .':'Statement'},inplace=True)\n",
        "df.columns"
      ],
      "metadata": {
        "id": "i-ieF_hpJBft",
        "colab": {
          "base_uri": "https://localhost:8080/"
        },
        "outputId": "870a71b6-b59a-48b5-e3fd-1082bc2cdf3e"
      },
      "execution_count": null,
      "outputs": [
        {
          "output_type": "execute_result",
          "data": {
            "text/plain": [
              "Index(['Sentiment', 'Statement'], dtype='object')"
            ]
          },
          "metadata": {},
          "execution_count": 3
        }
      ]
    },
    {
      "cell_type": "code",
      "source": [
        "cnt_pro=df[\"Sentiment\"].value_counts()\n",
        "plt.figure(figsize=(12,4))\n",
        "sns.barplot(cnt_pro, alpha=0.8)\n",
        "plt.ylabel('Number of Occurrences', fontsize=12)\n",
        "plt.xlabel('sentiment', fontsize=12)\n",
        "plt.xticks(rotation=90)\n",
        "plt.show();"
      ],
      "metadata": {
        "id": "isFWr_89K2rG",
        "colab": {
          "base_uri": "https://localhost:8080/"
        },
        "outputId": "0480ebc2-d18f-4043-ac77-d63dbf4f484e"
      },
      "execution_count": null,
      "outputs": [
        {
          "output_type": "display_data",
          "data": {
            "text/plain": [
              "<Figure size 1200x400 with 1 Axes>"
            ],
            "image/png": "[encoded data removed]"
          },
          "metadata": {}
        }
      ]
    },
    {
      "cell_type": "code",
      "source": [
        "sentiment  = {'positive': 0,'neutral': 1,'negative':2}\n",
        "\n",
        "df.Sentiment = [sentiment[item] for item in df.Sentiment]\n",
        "print(df)"
      ],
      "metadata": {
        "colab": {
          "base_uri": "https://localhost:8080/"
        },
        "id": "5v789g-YUxIS",
        "outputId": "59ea24da-dfe2-4fcd-e3e3-f107fb0d87c4"
      },
      "execution_count": null,
      "outputs": [
        {
          "output_type": "stream",
          "name": "stdout",
          "text": [
            "      Sentiment                                          Statement\n",
            "0             1  Technopolis plans to develop in stages an area...\n",
            "1             2  The international electronic industry company ...\n",
            "2             0  With the new production plant the company woul...\n",
            "3             0  According to the company 's updated strategy f...\n",
            "4             0  FINANCING OF ASPOCOMP 'S GROWTH Aspocomp is ag...\n",
            "...         ...                                                ...\n",
            "4840          2  LONDON MarketWatch -- Share prices ended lower...\n",
            "4841          1  Rinkuskiai 's beer sales fell by 6.5 per cent ...\n",
            "4842          2  Operating profit fell to EUR 35.4 mn from EUR ...\n",
            "4843          2  Net sales of the Paper segment decreased to EU...\n",
            "4844          2  Sales in Finland decreased by 10.5 % in Januar...\n",
            "\n",
            "[4845 rows x 2 columns]\n"
          ]
        }
      ]
    },
    {
      "cell_type": "markdown",
      "source": [
        "#Split and text cleaning#"
      ],
      "metadata": {
        "id": "uie3ZEXOOzzf"
      }
    },
    {
      "cell_type": "code",
      "source": [
        "from bs4 import BeautifulSoup\n",
        "def Cleantext(text):\n",
        "  text = BeautifulSoup(text, \"lxml\").text\n",
        "  text = re.sub(r'\\|\\|\\|', r' ', text)\n",
        "  text = re.sub(r'http\\S+', r'<URL>', text)\n",
        "  text = text.lower()\n",
        "  text = text.replace('x', '')\n",
        "  return text"
      ],
      "metadata": {
        "id": "cHKn4-onY2Wi"
      },
      "execution_count": null,
      "outputs": []
    },
    {
      "cell_type": "code",
      "source": [
        "#train and test split\n",
        "df['Statement'].apply(Cleantext)\n",
        "train,test=train_test_split(df,test_size=0.00001,random_state=42);"
      ],
      "metadata": {
        "colab": {
          "base_uri": "https://localhost:8080/"
        },
        "id": "-sGBLmc6rcwz",
        "outputId": "2725c0c3-ad85-4d86-c95b-a12b5dcf2faf"
      },
      "execution_count": null,
      "outputs": [
        {
          "output_type": "stream",
          "name": "stderr",
          "text": [
            "<ipython-input-6-f8bdeb4882d6>:3: MarkupResemblesLocatorWarning: The input looks more like a filename than markup. You may want to open this file and pass the filehandle into Beautiful Soup.\n",
            "  text = BeautifulSoup(text, \"lxml\").text\n"
          ]
        }
      ]
    },
    {
      "cell_type": "markdown",
      "source": [
        "#Tokenize and tagging"
      ],
      "metadata": {
        "id": "vkzv8eAMRMg6"
      }
    },
    {
      "cell_type": "code",
      "source": [
        "#tokenize\n",
        "import nltk\n",
        "nltk.download('punkt')\n",
        "def tokenize_text(text):\n",
        "  tokens=[]\n",
        "  for sent in nltk.sent_tokenize(text):\n",
        "    for word in nltk.word_tokenize(sent):\n",
        "      if len(word)<=0:\n",
        "        continue;\n",
        "      tokens.append(word.lower())\n",
        "  return tokens\n"
      ],
      "metadata": {
        "id": "npc4w1I5rt1b",
        "colab": {
          "base_uri": "https://localhost:8080/"
        },
        "outputId": "ac8c33c7-240c-46a6-ccd7-efe76fe8181c"
      },
      "execution_count": null,
      "outputs": [
        {
          "output_type": "stream",
          "name": "stderr",
          "text": [
            "[nltk_data] Downloading package punkt to /root/nltk_data...\n",
            "[nltk_data]   Unzipping tokenizers/punkt.zip.\n"
          ]
        }
      ]
    },
    {
      "cell_type": "code",
      "source": [
        "#tagged train and test\n",
        "train_tagged = train.apply(\n",
        "    lambda r: TaggedDocument(words=tokenize_text(r['Statement']), tags=[r.Sentiment]), axis=1)\n",
        "test_tagged = test.apply(\n",
        "    lambda r: TaggedDocument(words=tokenize_text(r['Statement']), tags=[r.Sentiment]), axis=1)\n"
      ],
      "metadata": {
        "id": "GImcDFvsBrZF"
      },
      "execution_count": null,
      "outputs": []
    },
    {
      "cell_type": "code",
      "source": [
        "max_fatures = 500000\n",
        "\n",
        "# Max number of words in each complaint.\n",
        "MAX_SEQUENCE_LENGTH = 50\n",
        "\n",
        "#tokenizer = Tokenizer(num_words=max_fatures, split=' ')\n",
        "tokenizer = Tokenizer(num_words=max_fatures, split=' ', filters='!\"#$%&()*+,-./:;<=>?@[\\]^_`{|}~', lower=True)\n",
        "tokenizer.fit_on_texts(df['Statement'].values)\n",
        "X = tokenizer.texts_to_sequences(df['Statement'].values)\n",
        "X = pad_sequences(X,maxlen=MAX_SEQUENCE_LENGTH)\n",
        "print('Shape of data tensor:', X.shape)"
      ],
      "metadata": {
        "id": "efcWLAMlCB0h",
        "colab": {
          "base_uri": "https://localhost:8080/"
        },
        "outputId": "7172f3f3-9080-4491-86e7-409b45d8904a"
      },
      "execution_count": null,
      "outputs": [
        {
          "output_type": "stream",
          "name": "stdout",
          "text": [
            "Shape of data tensor: (4845, 50)\n"
          ]
        }
      ]
    },
    {
      "cell_type": "markdown",
      "source": [
        "#Training Doc2Vec"
      ],
      "metadata": {
        "id": "8jfV9lucc7AN"
      }
    },
    {
      "cell_type": "code",
      "source": [
        "d2v_model = Doc2Vec(dm=1, dm_mean=1,vector_size=20, window=8, min_count=1, workers=1, alpha=0.065, min_alpha=0.065)\n",
        "d2v_model.build_vocab([x for x in tqdm(train_tagged.values)])"
      ],
      "metadata": {
        "colab": {
          "base_uri": "https://localhost:8080/"
        },
        "id": "jqQu249NahE-",
        "outputId": "1c07c921-3aeb-444a-b5b7-67b6e74f3dec"
      },
      "execution_count": null,
      "outputs": [
        {
          "output_type": "stream",
          "name": "stderr",
          "text": [
            "100%|██████████| 4844/4844 [00:00<00:00, 1706898.14it/s]\n"
          ]
        }
      ]
    },
    {
      "cell_type": "code",
      "source": [
        "for epoch in range(30):\n",
        "    d2v_model.train(utils.shuffle([x for x in tqdm(train_tagged.values)]), total_examples=len(train_tagged.values), epochs=1)\n",
        "    d2v_model.alpha -= 0.002\n",
        "    d2v_model.min_alpha = d2v_model.alpha"
      ],
      "metadata": {
        "colab": {
          "base_uri": "https://localhost:8080/"
        },
        "id": "WgphHoaCd0Vr",
        "outputId": "c8ce33e6-a5c8-4efa-dead-edc93738f85a"
      },
      "execution_count": null,
      "outputs": [
        {
          "output_type": "stream",
          "name": "stderr",
          "text": [
            "100%|██████████| 4844/4844 [00:00<00:00, 1092969.42it/s]\n",
            "100%|██████████| 4844/4844 [00:00<00:00, 1628633.95it/s]\n",
            "100%|██████████| 4844/4844 [00:00<00:00, 1778000.23it/s]\n",
            "100%|██████████| 4844/4844 [00:00<00:00, 1649124.07it/s]\n",
            "100%|██████████| 4844/4844 [00:00<00:00, 1798142.19it/s]\n",
            "100%|██████████| 4844/4844 [00:00<00:00, 1202771.05it/s]\n",
            "100%|██████████| 4844/4844 [00:00<00:00, 1045392.77it/s]\n",
            "100%|██████████| 4844/4844 [00:00<00:00, 2646158.97it/s]\n",
            "100%|██████████| 4844/4844 [00:00<00:00, 1923067.54it/s]\n",
            "100%|██████████| 4844/4844 [00:00<00:00, 2798899.10it/s]\n",
            "100%|██████████| 4844/4844 [00:00<00:00, 1578894.05it/s]\n",
            "100%|██████████| 4844/4844 [00:00<00:00, 1332101.27it/s]\n",
            "100%|██████████| 4844/4844 [00:00<00:00, 2563038.80it/s]\n",
            "100%|██████████| 4844/4844 [00:00<00:00, 1651671.29it/s]\n",
            "100%|██████████| 4844/4844 [00:00<00:00, 2587520.20it/s]\n",
            "100%|██████████| 4844/4844 [00:00<00:00, 2788527.12it/s]\n",
            "100%|██████████| 4844/4844 [00:00<00:00, 1069270.49it/s]\n",
            "100%|██████████| 4844/4844 [00:00<00:00, 1102398.73it/s]\n",
            "100%|██████████| 4844/4844 [00:00<00:00, 1205268.35it/s]\n",
            "100%|██████████| 4844/4844 [00:00<00:00, 1287692.27it/s]\n",
            "100%|██████████| 4844/4844 [00:00<00:00, 1800372.94it/s]\n",
            "100%|██████████| 4844/4844 [00:00<00:00, 1411701.54it/s]\n",
            "100%|██████████| 4844/4844 [00:00<00:00, 1514401.35it/s]\n",
            "100%|██████████| 4844/4844 [00:00<00:00, 1495782.12it/s]\n",
            "100%|██████████| 4844/4844 [00:00<00:00, 1539882.41it/s]\n",
            "100%|██████████| 4844/4844 [00:00<00:00, 1743667.06it/s]\n",
            "100%|██████████| 4844/4844 [00:00<00:00, 1680636.00it/s]\n",
            "100%|██████████| 4844/4844 [00:00<00:00, 1700327.10it/s]\n",
            "100%|██████████| 4844/4844 [00:00<00:00, 1185022.37it/s]\n",
            "100%|██████████| 4844/4844 [00:00<00:00, 1604454.60it/s]\n"
          ]
        }
      ]
    },
    {
      "cell_type": "code",
      "source": [
        "print(d2v_model)"
      ],
      "metadata": {
        "colab": {
          "base_uri": "https://localhost:8080/"
        },
        "id": "Hd9xp_d8bJsC",
        "outputId": "c2d8f292-d0c8-4b42-a39c-ea8a15527591"
      },
      "execution_count": null,
      "outputs": [
        {
          "output_type": "stream",
          "name": "stdout",
          "text": [
            "Doc2Vec<dm/m,d20,n5,w8,s0.001>\n"
          ]
        }
      ]
    },
    {
      "cell_type": "code",
      "source": [
        "len(d2v_model.wv.key_to_index)"
      ],
      "metadata": {
        "colab": {
          "base_uri": "https://localhost:8080/"
        },
        "id": "6vE0ooZccZWC",
        "outputId": "7c61a996-1683-4855-9fbb-0188357fb142"
      },
      "execution_count": null,
      "outputs": [
        {
          "output_type": "execute_result",
          "data": {
            "text/plain": [
              "11699"
            ]
          },
          "metadata": {},
          "execution_count": 14
        }
      ]
    },
    {
      "cell_type": "code",
      "source": [
        "embedding_matrix = np.zeros((len(d2v_model.wv.key_to_index)+ 1, 20))\n",
        "\n",
        "for i, vec in enumerate(d2v_model.dv.vectors):\n",
        "    while i in vec <= 1000:\n",
        "          embedding_matrix[i]=vec\n",
        "embedding_matrix"
      ],
      "metadata": {
        "id": "uUeq2-fvdqK7",
        "colab": {
          "base_uri": "https://localhost:8080/"
        },
        "outputId": "86c95d82-b554-4969-a4e6-9e207098fb81"
      },
      "execution_count": null,
      "outputs": [
        {
          "output_type": "execute_result",
          "data": {
            "text/plain": [
              "array([[0., 0., 0., ..., 0., 0., 0.],\n",
              "       [0., 0., 0., ..., 0., 0., 0.],\n",
              "       [0., 0., 0., ..., 0., 0., 0.],\n",
              "       ...,\n",
              "       [0., 0., 0., ..., 0., 0., 0.],\n",
              "       [0., 0., 0., ..., 0., 0., 0.],\n",
              "       [0., 0., 0., ..., 0., 0., 0.]])"
            ]
          },
          "metadata": {},
          "execution_count": 15
        }
      ]
    },
    {
      "cell_type": "markdown",
      "source": [
        "#Measuring distance between two vectors (related to cosine similarity)"
      ],
      "metadata": {
        "id": "D_xJ7-xLdL34"
      }
    },
    {
      "cell_type": "code",
      "source": [
        "d2v_model.wv.most_similar(positive=['profit'], topn=10)"
      ],
      "metadata": {
        "colab": {
          "base_uri": "https://localhost:8080/"
        },
        "id": "wC6_LtHGcdhM",
        "outputId": "eb92df14-f0c4-4900-ca1f-6bf833382d05"
      },
      "execution_count": null,
      "outputs": [
        {
          "output_type": "execute_result",
          "data": {
            "text/plain": [
              "[('loss', 0.8727889657020569),\n",
              " ('profits', 0.8044567108154297),\n",
              " ('result', 0.7867183685302734),\n",
              " ('income', 0.7401697039604187),\n",
              " ('sales', 0.7333695292472839),\n",
              " ('4.9', 0.7308770418167114),\n",
              " ('wwd', 0.6771895885467529),\n",
              " ('116.6', 0.6710983514785767),\n",
              " ('margin', 0.6650224328041077),\n",
              " ('download', 0.6640092134475708)]"
            ]
          },
          "metadata": {},
          "execution_count": 16
        }
      ]
    },
    {
      "cell_type": "code",
      "source": [
        "'''\n",
        "!pip install sklearn\n",
        "from sklearn.manifold import TNSE\n",
        "import matplotlib.pyplot as plt\n",
        "%matplotlib inline\n",
        "'''"
      ],
      "metadata": {
        "colab": {
          "base_uri": "https://localhost:8080/",
          "height": 35
        },
        "id": "yK4_lx68lmp_",
        "outputId": "72fe3fb1-5d6a-42e7-aee1-66bead265b09"
      },
      "execution_count": null,
      "outputs": [
        {
          "output_type": "execute_result",
          "data": {
            "text/plain": [
              "'\\n!pip install sklearn\\nfrom sklearn.manifold import TNSE\\nimport matplotlib.pyplot as plt\\n%matplotlib inline\\n'"
            ],
            "application/vnd.google.colaboratory.intrinsic+json": {
              "type": "string"
            }
          },
          "metadata": {},
          "execution_count": 32
        }
      ]
    },
    {
      "cell_type": "code",
      "source": [
        "#Plot the words\n",
        "'''\n",
        "def tnse_plot(model):\n",
        "  labels=[]\n",
        "  tokens=[]\n",
        "\n",
        "  for word in model.wv.key_to_index:\n",
        "    labels.append(word)\n",
        "    tokens.append(model[word])\n",
        "\n",
        "  tnse_model=TNSE(perplexity=40, n_components=2, init='pca',max_iter=250, random_state=23)\n",
        "  new_values=tnse_model.fit_transfrom(tokens)\n",
        "\n",
        "  x=[]\n",
        "  y=[]\n",
        "\n",
        "  for val in new_values:\n",
        "    x.append(val[0])\n",
        "    y.append(val[1])\n",
        "\n",
        "  plt.figure(figsize=(16, 16))\n",
        "  for i in range(len(x)):\n",
        "    plt.scatter(x[i],y[i])\n",
        "    plt.annotate(labels[i],\n",
        "                     xy=(x[i], y[i]),\n",
        "                     xytext=(5, 2),\n",
        "                     textcoords='offset points',\n",
        "                     ha='right',\n",
        "                     va='bottom')\n",
        "  plt.show()\n",
        "'''"
      ],
      "metadata": {
        "id": "zJvjeI7rd4up",
        "colab": {
          "base_uri": "https://localhost:8080/",
          "height": 105
        },
        "outputId": "895fbf88-0f74-44db-a111-9e536574dde1"
      },
      "execution_count": null,
      "outputs": [
        {
          "output_type": "execute_result",
          "data": {
            "text/plain": [
              "\"\\ndef tnse_plot(model):\\n  labels=[]\\n  tokens=[]\\n\\n  for word in model.wv.key_to_index:\\n    labels.append(word)\\n    tokens.append(model[word])\\n\\n  tnse_model=TNSE(perplexity=40, n_components=2, init='pca',max_iter=250, random_state=23)\\n  new_values=tnse_model.fit_transfrom(tokens)\\n\\n  x=[]\\n  y=[]\\n\\n  for val in new_values:\\n    x.append(val[0])\\n    y.append(val[1])\\n\\n  plt.figure(figsize=(16, 16))\\n  for i in range(len(x)):\\n    plt.scatter(x[i],y[i])\\n    plt.annotate(labels[i],\\n                     xy=(x[i], y[i]),\\n                     xytext=(5, 2),\\n                     textcoords='offset points',\\n                     ha='right',\\n                     va='bottom')\\n  plt.show()\\n\""
            ],
            "application/vnd.google.colaboratory.intrinsic+json": {
              "type": "string"
            }
          },
          "metadata": {},
          "execution_count": 33
        }
      ]
    },
    {
      "cell_type": "markdown",
      "source": [
        "#LSTM Model"
      ],
      "metadata": {
        "id": "BU37DYAvruay"
      }
    },
    {
      "cell_type": "code",
      "source": [
        "from keras.models import Sequential\n",
        "from keras.layers import LSTM, Dense, Embedding\n",
        "\n",
        "model=Sequential()\n",
        "\n",
        "model.add(Embedding(len(d2v_model.wv.key_to_index)+1,20,input_length=X.shape[1],weights=[embedding_matrix],trainable=True))\n",
        "model.add(LSTM(50,return_sequences=False))\n",
        "model.add(Dense(3,activation=\"softmax\"))\n",
        "\n",
        "model.summary()\n",
        "model.compile(optimizer=\"adam\",loss=\"binary_crossentropy\",metrics=['acc'])"
      ],
      "metadata": {
        "id": "z3LQHX9djlSf",
        "colab": {
          "base_uri": "https://localhost:8080/"
        },
        "outputId": "1bb319a4-6b66-4921-d5a1-2253c40e4f8f"
      },
      "execution_count": null,
      "outputs": [
        {
          "output_type": "stream",
          "name": "stdout",
          "text": [
            "Model: \"sequential\"\n",
            "_________________________________________________________________\n",
            " Layer (type)                Output Shape              Param #   \n",
            "=================================================================\n",
            " embedding (Embedding)       (None, 50, 20)            234000    \n",
            "                                                                 \n",
            " lstm (LSTM)                 (None, 50)                14200     \n",
            "                                                                 \n",
            " dense (Dense)               (None, 3)                 153       \n",
            "                                                                 \n",
            "=================================================================\n",
            "Total params: 248353 (970.13 KB)\n",
            "Trainable params: 248353 (970.13 KB)\n",
            "Non-trainable params: 0 (0.00 Byte)\n",
            "_________________________________________________________________\n"
          ]
        }
      ]
    },
    {
      "cell_type": "code",
      "source": [
        "from keras.utils import plot_model\n",
        "plot_model(model, to_file='model.png')"
      ],
      "metadata": {
        "colab": {
          "base_uri": "https://localhost:8080/",
          "height": 369
        },
        "id": "MF31227j9yR4",
        "outputId": "ea5bcc6b-f9a1-4424-b941-5076c3e43637"
      },
      "execution_count": null,
      "outputs": [
        {
          "output_type": "execute_result",
          "data": {
            "image/png": "[encoded data removed]",
            "text/plain": [
              "<IPython.core.display.Image object>"
            ]
          },
          "metadata": {},
          "execution_count": 19
        }
      ]
    },
    {
      "cell_type": "code",
      "source": [
        "Y = pd.get_dummies(df['Sentiment']).values\n",
        "X_train, X_test, Y_train, Y_test = train_test_split(X,Y, test_size = 0.15, random_state = 42)\n",
        "print(X_train.shape,Y_train.shape)\n",
        "print(X_test.shape,Y_test.shape)"
      ],
      "metadata": {
        "colab": {
          "base_uri": "https://localhost:8080/"
        },
        "id": "MbEYyTI2-0Rm",
        "outputId": "7dcaf56d-8bb7-4dbd-d237-8a025a3298e6"
      },
      "execution_count": null,
      "outputs": [
        {
          "output_type": "stream",
          "name": "stdout",
          "text": [
            "(4118, 50) (4118, 3)\n",
            "(727, 50) (727, 3)\n"
          ]
        }
      ]
    },
    {
      "cell_type": "code",
      "source": [
        "batch_size = 32\n",
        "history=model.fit(X_train, Y_train, epochs =50, batch_size=batch_size, verbose = 2)"
      ],
      "metadata": {
        "colab": {
          "base_uri": "https://localhost:8080/"
        },
        "id": "DFXi5VxyCjn1",
        "outputId": "2e16a067-80d2-4c71-a0a4-ea83e097af5f"
      },
      "execution_count": null,
      "outputs": [
        {
          "output_type": "stream",
          "name": "stdout",
          "text": [
            "Epoch 1/50\n",
            "129/129 - 16s - loss: 0.5470 - acc: 0.6013 - 16s/epoch - 123ms/step\n",
            "Epoch 2/50\n",
            "129/129 - 5s - loss: 0.4039 - acc: 0.7122 - 5s/epoch - 36ms/step\n",
            "Epoch 3/50\n",
            "129/129 - 5s - loss: 0.2940 - acc: 0.7941 - 5s/epoch - 35ms/step\n",
            "Epoch 4/50\n",
            "129/129 - 4s - loss: 0.2256 - acc: 0.8390 - 4s/epoch - 31ms/step\n",
            "Epoch 5/50\n",
            "129/129 - 5s - loss: 0.1537 - acc: 0.9121 - 5s/epoch - 36ms/step\n",
            "Epoch 6/50\n",
            "129/129 - 5s - loss: 0.1059 - acc: 0.9492 - 5s/epoch - 39ms/step\n",
            "Epoch 7/50\n",
            "129/129 - 4s - loss: 0.0686 - acc: 0.9692 - 4s/epoch - 31ms/step\n",
            "Epoch 8/50\n",
            "129/129 - 4s - loss: 0.0470 - acc: 0.9801 - 4s/epoch - 31ms/step\n",
            "Epoch 9/50\n",
            "129/129 - 8s - loss: 0.0446 - acc: 0.9806 - 8s/epoch - 64ms/step\n",
            "Epoch 10/50\n",
            "129/129 - 7s - loss: 0.0282 - acc: 0.9869 - 7s/epoch - 56ms/step\n",
            "Epoch 11/50\n",
            "129/129 - 6s - loss: 0.0267 - acc: 0.9898 - 6s/epoch - 44ms/step\n",
            "Epoch 12/50\n",
            "129/129 - 4s - loss: 0.0302 - acc: 0.9876 - 4s/epoch - 30ms/step\n",
            "Epoch 13/50\n",
            "129/129 - 4s - loss: 0.0212 - acc: 0.9915 - 4s/epoch - 30ms/step\n",
            "Epoch 14/50\n",
            "129/129 - 5s - loss: 0.0199 - acc: 0.9927 - 5s/epoch - 41ms/step\n",
            "Epoch 15/50\n",
            "129/129 - 4s - loss: 0.0127 - acc: 0.9956 - 4s/epoch - 30ms/step\n",
            "Epoch 16/50\n",
            "129/129 - 4s - loss: 0.0130 - acc: 0.9947 - 4s/epoch - 29ms/step\n",
            "Epoch 17/50\n",
            "129/129 - 5s - loss: 0.0156 - acc: 0.9944 - 5s/epoch - 38ms/step\n",
            "Epoch 18/50\n",
            "129/129 - 5s - loss: 0.0185 - acc: 0.9927 - 5s/epoch - 36ms/step\n",
            "Epoch 19/50\n",
            "129/129 - 4s - loss: 0.0130 - acc: 0.9949 - 4s/epoch - 30ms/step\n",
            "Epoch 20/50\n",
            "129/129 - 5s - loss: 0.0099 - acc: 0.9951 - 5s/epoch - 41ms/step\n",
            "Epoch 21/50\n",
            "129/129 - 5s - loss: 0.0111 - acc: 0.9942 - 5s/epoch - 39ms/step\n",
            "Epoch 22/50\n",
            "129/129 - 4s - loss: 0.0103 - acc: 0.9961 - 4s/epoch - 30ms/step\n",
            "Epoch 23/50\n",
            "129/129 - 4s - loss: 0.0071 - acc: 0.9964 - 4s/epoch - 30ms/step\n",
            "Epoch 24/50\n",
            "129/129 - 6s - loss: 0.0109 - acc: 0.9951 - 6s/epoch - 43ms/step\n",
            "Epoch 25/50\n",
            "129/129 - 4s - loss: 0.0161 - acc: 0.9915 - 4s/epoch - 31ms/step\n",
            "Epoch 26/50\n",
            "129/129 - 4s - loss: 0.0130 - acc: 0.9944 - 4s/epoch - 30ms/step\n",
            "Epoch 27/50\n",
            "129/129 - 5s - loss: 0.0110 - acc: 0.9949 - 5s/epoch - 42ms/step\n",
            "Epoch 28/50\n",
            "129/129 - 4s - loss: 0.0055 - acc: 0.9973 - 4s/epoch - 29ms/step\n",
            "Epoch 29/50\n",
            "129/129 - 4s - loss: 0.0069 - acc: 0.9973 - 4s/epoch - 29ms/step\n",
            "Epoch 30/50\n",
            "129/129 - 4s - loss: 0.0043 - acc: 0.9978 - 4s/epoch - 34ms/step\n",
            "Epoch 31/50\n",
            "129/129 - 5s - loss: 0.0050 - acc: 0.9978 - 5s/epoch - 37ms/step\n",
            "Epoch 32/50\n",
            "129/129 - 4s - loss: 0.0037 - acc: 0.9988 - 4s/epoch - 30ms/step\n",
            "Epoch 33/50\n",
            "129/129 - 4s - loss: 0.0036 - acc: 0.9981 - 4s/epoch - 28ms/step\n",
            "Epoch 34/50\n",
            "129/129 - 6s - loss: 0.0049 - acc: 0.9978 - 6s/epoch - 44ms/step\n",
            "Epoch 35/50\n",
            "129/129 - 4s - loss: 0.0035 - acc: 0.9981 - 4s/epoch - 27ms/step\n",
            "Epoch 36/50\n",
            "129/129 - 4s - loss: 0.0043 - acc: 0.9976 - 4s/epoch - 30ms/step\n",
            "Epoch 37/50\n",
            "129/129 - 5s - loss: 0.0096 - acc: 0.9949 - 5s/epoch - 36ms/step\n",
            "Epoch 38/50\n",
            "129/129 - 4s - loss: 0.0221 - acc: 0.9893 - 4s/epoch - 31ms/step\n",
            "Epoch 39/50\n",
            "129/129 - 4s - loss: 0.0077 - acc: 0.9968 - 4s/epoch - 29ms/step\n",
            "Epoch 40/50\n",
            "129/129 - 4s - loss: 0.0040 - acc: 0.9985 - 4s/epoch - 31ms/step\n",
            "Epoch 41/50\n",
            "129/129 - 5s - loss: 0.0024 - acc: 0.9988 - 5s/epoch - 38ms/step\n",
            "Epoch 42/50\n",
            "129/129 - 4s - loss: 0.0021 - acc: 0.9990 - 4s/epoch - 30ms/step\n",
            "Epoch 43/50\n",
            "129/129 - 4s - loss: 0.0023 - acc: 0.9990 - 4s/epoch - 29ms/step\n",
            "Epoch 44/50\n",
            "129/129 - 5s - loss: 0.0019 - acc: 0.9990 - 5s/epoch - 41ms/step\n",
            "Epoch 45/50\n",
            "129/129 - 5s - loss: 0.0022 - acc: 0.9990 - 5s/epoch - 36ms/step\n",
            "Epoch 46/50\n",
            "129/129 - 4s - loss: 0.0019 - acc: 0.9990 - 4s/epoch - 29ms/step\n",
            "Epoch 47/50\n",
            "129/129 - 5s - loss: 0.0017 - acc: 0.9990 - 5s/epoch - 41ms/step\n",
            "Epoch 48/50\n",
            "129/129 - 5s - loss: 0.0022 - acc: 0.9990 - 5s/epoch - 41ms/step\n",
            "Epoch 49/50\n",
            "129/129 - 4s - loss: 0.0020 - acc: 0.9988 - 4s/epoch - 29ms/step\n",
            "Epoch 50/50\n",
            "129/129 - 4s - loss: 0.0017 - acc: 0.9990 - 4s/epoch - 30ms/step\n"
          ]
        }
      ]
    },
    {
      "cell_type": "code",
      "source": [
        "_, train_acc = model.evaluate(X_train, Y_train, verbose=2)\n",
        "_, test_acc = model.evaluate(X_test, Y_test, verbose=2)\n",
        "print('Train: %.3f, Test: %.4f' % (train_acc, test_acc))"
      ],
      "metadata": {
        "colab": {
          "base_uri": "https://localhost:8080/"
        },
        "id": "_Yn5MFBlDHwW",
        "outputId": "e1f31ec2-2eb1-47e9-db6f-0eff3bae8d00"
      },
      "execution_count": null,
      "outputs": [
        {
          "output_type": "stream",
          "name": "stdout",
          "text": [
            "129/129 - 2s - loss: 0.0011 - acc: 0.9995 - 2s/epoch - 19ms/step\n",
            "23/23 - 0s - loss: 1.3206 - acc: 0.6905 - 234ms/epoch - 10ms/step\n",
            "Train: 1.000, Test: 0.6905\n"
          ]
        }
      ]
    },
    {
      "cell_type": "code",
      "source": [
        "yhat_probs = model.predict(X_test)\n",
        "print(yhat_probs)\n",
        "# predict crisp classes for test set\n",
        "yhat_classes = np.argmax(yhat_probs,axis=1)\n",
        "print(yhat_classes)"
      ],
      "metadata": {
        "colab": {
          "base_uri": "https://localhost:8080/"
        },
        "id": "0_VFTgLtD8X1",
        "outputId": "fa5f641c-5a99-4a99-fb22-30719292e5d2"
      },
      "execution_count": null,
      "outputs": [
        {
          "output_type": "stream",
          "name": "stdout",
          "text": [
            "23/23 [==============================] - 1s 10ms/step\n",
            "[[8.7674074e-08 9.9999982e-01 2.4704008e-08]\n",
            " [9.9999994e-01 4.4721387e-09 7.0865300e-09]\n",
            " [3.9079751e-07 9.9999923e-01 3.1828114e-07]\n",
            " ...\n",
            " [1.0000000e+00 1.0358919e-08 6.6102501e-09]\n",
            " [5.3003646e-07 9.9999928e-01 2.2797586e-07]\n",
            " [9.9994826e-01 5.0762355e-05 9.0075912e-07]]\n",
            "[1 0 1 0 1 1 1 1 1 1 1 1 1 2 1 1 1 1 0 1 1 1 0 0 1 0 1 1 0 0 1 1 1 2 1 1 2\n",
            " 0 1 1 0 1 2 0 0 1 1 1 0 1 2 1 2 2 1 0 1 1 0 1 0 0 0 0 1 1 1 1 1 0 1 0 0 1\n",
            " 0 1 1 1 1 0 1 2 0 1 0 0 1 0 1 0 2 1 1 2 1 1 0 1 1 1 2 1 1 2 1 1 1 1 2 1 1\n",
            " 1 2 1 1 0 0 0 0 0 0 0 0 1 1 1 1 0 1 1 1 0 2 1 0 1 0 1 1 1 1 1 1 1 1 1 2 1\n",
            " 0 1 1 0 1 0 1 0 0 1 2 2 0 0 1 0 1 0 1 2 1 0 1 0 0 1 0 2 0 0 1 0 0 0 0 1 1\n",
            " 2 1 0 1 1 1 0 0 1 2 0 1 1 1 1 1 1 1 1 1 0 1 1 0 1 0 1 1 1 0 1 1 2 1 0 0 1\n",
            " 1 2 1 1 1 0 1 1 1 0 1 1 2 0 1 1 1 1 1 1 1 0 0 1 1 1 0 1 0 1 0 0 1 0 1 1 1\n",
            " 1 1 0 1 0 2 2 0 1 1 1 1 1 2 1 1 1 1 0 0 0 1 0 1 1 1 1 1 1 0 1 0 2 0 1 2 1\n",
            " 1 1 0 1 0 1 1 1 1 2 1 0 1 0 1 2 0 1 1 1 1 1 1 1 1 1 0 1 0 1 1 0 1 1 1 1 1\n",
            " 1 0 1 1 0 0 1 0 1 1 0 1 1 1 0 1 1 0 1 0 2 1 1 0 1 2 1 1 1 1 1 0 0 0 0 1 0\n",
            " 0 0 1 1 1 1 1 1 0 2 0 0 2 1 0 1 1 1 0 1 0 1 1 0 1 0 1 1 1 1 0 1 1 1 2 2 1\n",
            " 0 1 1 2 1 0 0 1 2 0 0 1 0 1 2 0 1 2 1 1 1 0 1 0 0 1 1 1 0 0 0 2 1 1 0 1 1\n",
            " 0 1 1 0 0 2 1 1 1 0 1 0 2 1 1 0 1 0 1 0 1 0 1 0 1 0 1 0 1 1 1 1 1 0 1 0 1\n",
            " 0 1 0 0 1 2 0 0 0 1 1 0 1 1 0 1 1 1 2 0 1 1 1 1 0 1 1 1 1 0 0 1 1 0 0 0 0\n",
            " 2 0 0 1 0 1 1 1 1 0 1 1 1 1 0 1 1 1 1 1 1 1 1 1 1 0 1 1 1 0 2 1 1 1 1 1 1\n",
            " 0 2 0 1 2 1 0 2 0 1 1 1 0 2 1 1 1 1 1 1 1 1 1 2 1 1 1 0 1 2 0 1 1 1 1 1 1\n",
            " 0 0 0 1 1 1 2 0 0 1 0 1 2 0 2 1 2 1 0 1 1 0 1 1 0 2 1 0 2 2 1 1 1 0 0 0 0\n",
            " 1 1 0 1 1 1 1 1 0 1 1 2 1 1 1 1 1 0 1 1 2 0 1 0 0 1 2 0 0 1 1 1 1 1 1 1 2\n",
            " 2 1 1 0 1 1 1 1 0 1 1 1 0 1 1 1 1 1 1 0 1 0 1 0 1 0 1 0 0 2 1 1 1 1 1 1 0\n",
            " 0 1 0 1 1 1 0 1 2 1 1 1 1 1 1 0 0 1 1 1 1 0 1 0]\n"
          ]
        }
      ]
    },
    {
      "cell_type": "code",
      "source": [
        "rounded_labels=np.argmax(Y_test, axis=1)\n",
        "rounded_labels"
      ],
      "metadata": {
        "colab": {
          "base_uri": "https://localhost:8080/"
        },
        "id": "HrytpA3dJJD9",
        "outputId": "26032398-c8d4-4450-b2ba-027311ae339d"
      },
      "execution_count": null,
      "outputs": [
        {
          "output_type": "execute_result",
          "data": {
            "text/plain": [
              "array([1, 0, 1, 1, 1, 1, 1, 1, 1, 1, 1, 0, 1, 2, 1, 0, 1, 0, 0, 2, 2, 1,\n",
              "       0, 0, 1, 0, 1, 0, 0, 2, 1, 1, 0, 2, 1, 0, 2, 0, 1, 1, 0, 1, 2, 1,\n",
              "       0, 1, 1, 1, 0, 0, 2, 1, 0, 2, 1, 0, 1, 1, 1, 1, 0, 0, 0, 1, 2, 1,\n",
              "       0, 1, 1, 1, 1, 0, 0, 0, 0, 1, 0, 1, 1, 0, 1, 2, 0, 1, 0, 0, 0, 0,\n",
              "       0, 0, 0, 1, 2, 2, 1, 0, 1, 1, 0, 1, 2, 1, 1, 2, 1, 1, 1, 1, 1, 1,\n",
              "       1, 0, 2, 1, 1, 0, 0, 0, 0, 0, 0, 1, 1, 1, 1, 0, 0, 1, 0, 1, 2, 0,\n",
              "       1, 1, 0, 1, 0, 2, 1, 1, 1, 1, 1, 0, 1, 1, 1, 1, 0, 1, 1, 1, 1, 1,\n",
              "       1, 1, 1, 1, 2, 2, 0, 0, 1, 0, 1, 0, 1, 2, 1, 1, 1, 0, 1, 1, 0, 1,\n",
              "       1, 1, 1, 1, 0, 0, 1, 0, 1, 2, 1, 2, 1, 2, 1, 1, 0, 0, 1, 0, 2, 1,\n",
              "       2, 0, 1, 1, 0, 2, 1, 0, 1, 0, 0, 1, 1, 1, 1, 1, 1, 1, 1, 2, 0, 1,\n",
              "       0, 1, 1, 1, 2, 1, 1, 0, 1, 1, 1, 0, 0, 1, 2, 0, 1, 0, 1, 1, 1, 1,\n",
              "       1, 2, 0, 0, 0, 1, 1, 1, 1, 1, 0, 1, 1, 1, 1, 1, 1, 1, 1, 0, 1, 0,\n",
              "       2, 1, 2, 1, 1, 0, 1, 1, 2, 0, 1, 1, 1, 1, 1, 0, 1, 0, 1, 1, 0, 1,\n",
              "       1, 1, 2, 1, 0, 1, 0, 2, 2, 1, 1, 1, 0, 1, 0, 1, 1, 2, 1, 2, 1, 0,\n",
              "       1, 0, 1, 2, 1, 1, 0, 1, 1, 1, 1, 0, 1, 1, 0, 1, 0, 1, 1, 0, 1, 1,\n",
              "       1, 1, 0, 0, 0, 0, 0, 0, 1, 1, 1, 1, 0, 1, 1, 1, 2, 0, 2, 1, 0, 1,\n",
              "       1, 1, 1, 1, 0, 1, 2, 0, 1, 1, 1, 1, 0, 0, 1, 2, 1, 0, 0, 0, 1, 1,\n",
              "       1, 0, 1, 0, 2, 0, 0, 1, 2, 1, 0, 1, 0, 1, 1, 1, 1, 0, 1, 0, 1, 2,\n",
              "       2, 1, 0, 1, 1, 0, 1, 1, 2, 2, 0, 1, 1, 1, 1, 1, 0, 0, 1, 2, 0, 1,\n",
              "       1, 0, 2, 0, 1, 2, 2, 1, 1, 2, 1, 1, 0, 0, 1, 1, 1, 1, 1, 0, 2, 0,\n",
              "       1, 0, 1, 1, 1, 1, 0, 2, 1, 2, 1, 1, 1, 1, 1, 1, 2, 1, 1, 0, 1, 1,\n",
              "       1, 1, 1, 1, 1, 2, 1, 2, 1, 1, 1, 1, 1, 1, 0, 1, 1, 0, 1, 0, 1, 0,\n",
              "       1, 1, 1, 1, 0, 0, 1, 1, 1, 1, 1, 1, 1, 0, 1, 1, 1, 2, 1, 1, 0, 1,\n",
              "       1, 1, 1, 1, 2, 0, 0, 1, 0, 1, 0, 1, 1, 1, 1, 0, 0, 1, 1, 1, 0, 0,\n",
              "       1, 1, 2, 1, 0, 1, 1, 1, 1, 1, 1, 1, 1, 0, 1, 0, 1, 1, 0, 0, 2, 0,\n",
              "       0, 1, 1, 1, 1, 0, 2, 1, 0, 1, 1, 0, 2, 2, 1, 0, 1, 0, 2, 0, 0, 1,\n",
              "       1, 1, 1, 1, 1, 1, 2, 1, 1, 0, 0, 1, 1, 0, 1, 1, 1, 1, 0, 1, 1, 0,\n",
              "       0, 1, 1, 1, 2, 1, 1, 1, 1, 1, 1, 0, 2, 1, 2, 1, 0, 1, 0, 0, 0, 1,\n",
              "       1, 2, 1, 0, 2, 2, 1, 0, 1, 0, 1, 1, 0, 1, 0, 0, 2, 0, 0, 1, 1, 0,\n",
              "       1, 1, 1, 1, 1, 1, 1, 0, 0, 1, 1, 2, 0, 0, 0, 0, 1, 0, 2, 0, 1, 1,\n",
              "       0, 1, 1, 1, 1, 2, 1, 1, 1, 1, 1, 1, 1, 1, 1, 1, 1, 1, 0, 2, 1, 0,\n",
              "       1, 1, 1, 2, 0, 0, 1, 0, 1, 2, 1, 1, 1, 2, 1, 0, 1, 1, 1, 0, 1, 1,\n",
              "       2, 0, 1, 1, 1, 0, 1, 2, 1, 1, 1, 1, 0, 0, 0, 0, 1, 0, 1, 0, 1, 0,\n",
              "       0])"
            ]
          },
          "metadata": {},
          "execution_count": 24
        }
      ]
    },
    {
      "cell_type": "code",
      "source": [
        "from sklearn.metrics import confusion_matrix\n",
        "cm = confusion_matrix(rounded_labels, yhat_classes)\n",
        "cm"
      ],
      "metadata": {
        "colab": {
          "base_uri": "https://localhost:8080/"
        },
        "id": "gvsnNHgvJKGN",
        "outputId": "e6fdd430-5468-4cb5-858b-b159f9754fd2"
      },
      "execution_count": null,
      "outputs": [
        {
          "output_type": "execute_result",
          "data": {
            "text/plain": [
              "array([[127,  83,   5],\n",
              "       [ 79, 329,  18],\n",
              "       [ 16,  24,  46]])"
            ]
          },
          "metadata": {},
          "execution_count": 25
        }
      ]
    },
    {
      "cell_type": "markdown",
      "source": [
        "#Validation"
      ],
      "metadata": {
        "id": "-rKFPDA1J3V5"
      }
    },
    {
      "cell_type": "code",
      "source": [
        "validation_size=610\n",
        "X_test = X_test[:-validation_size]\n",
        "Y_test = Y_test[:-validation_size]\n",
        "score,acc = model.evaluate(X_test, Y_test, verbose = 1, batch_size = batch_size)\n",
        "\n",
        "print(\"score: %.2f\" % (score))\n",
        "print(\"acc: %.2f\" % (acc))"
      ],
      "metadata": {
        "id": "Mr_tjI3FJuKY",
        "colab": {
          "base_uri": "https://localhost:8080/"
        },
        "outputId": "7060916a-8a0f-4c7c-ab15-d1a6c112e569"
      },
      "execution_count": null,
      "outputs": [
        {
          "output_type": "stream",
          "name": "stdout",
          "text": [
            "4/4 [==============================] - 0s 17ms/step - loss: 1.2361 - acc: 0.7521\n",
            "score: 1.24\n",
            "acc: 0.75\n"
          ]
        }
      ]
    },
    {
      "cell_type": "code",
      "source": [
        "#Save Model\n",
        "model.save('Mymodel.keras')"
      ],
      "metadata": {
        "id": "-niz28rI8OVn"
      },
      "execution_count": null,
      "outputs": []
    },
    {
      "cell_type": "markdown",
      "source": [
        "#Test with new and different data set aside from the data to build the model.\n",
        "\n",
        "note : sentiment = {'positive': 0,'neutral': 1,'negative':2}"
      ],
      "metadata": {
        "id": "d_romFbS_4xP"
      }
    },
    {
      "cell_type": "code",
      "source": [
        "message = ['Congratulations! you have won a $1,000 Walmart gift card']\n",
        "seq = tokenizer.texts_to_sequences(message)\n",
        "\n",
        "padded = pad_sequences(seq, maxlen=X.shape[1], dtype='int32', value=0)\n",
        "\n",
        "pred = model.predict(padded)\n",
        "\n",
        "labels = ['0','1','2']\n",
        "print(pred, labels[np.argmax(pred)])"
      ],
      "metadata": {
        "colab": {
          "base_uri": "https://localhost:8080/"
        },
        "id": "7tquNOzU8ouN",
        "outputId": "a08d0e96-ebaa-4ee9-b478-1a62a13919d8"
      },
      "execution_count": null,
      "outputs": [
        {
          "output_type": "stream",
          "name": "stdout",
          "text": [
            "1/1 [==============================] - 0s 39ms/step\n",
            "[[0.03319052 0.6288635  0.33794597]] 1\n"
          ]
        }
      ]
    },
    {
      "cell_type": "code",
      "source": [
        "message = ['such massive asteroid hit will certainly create new business opportunities']\n",
        "seq = tokenizer.texts_to_sequences(message)\n",
        "\n",
        "padded = pad_sequences(seq, maxlen=X.shape[1], dtype='int32', value=0)\n",
        "\n",
        "pred = model.predict(padded)\n",
        "\n",
        "labels = ['0','1','2']\n",
        "print(pred, labels[np.argmax(pred)])"
      ],
      "metadata": {
        "colab": {
          "base_uri": "https://localhost:8080/"
        },
        "id": "QP1-3cZEAb9N",
        "outputId": "aa3bb10a-1c49-482b-8b43-eced1da68b8b"
      },
      "execution_count": null,
      "outputs": [
        {
          "output_type": "stream",
          "name": "stdout",
          "text": [
            "1/1 [==============================] - 0s 24ms/step\n",
            "[[0.45322478 0.00782316 0.538952  ]] 2\n"
          ]
        }
      ]
    },
    {
      "cell_type": "code",
      "source": [
        "message = ['so does anyone else not open Snapchat anymore ? or is it just me ... ugh this so sad.']\n",
        "seq = tokenizer.texts_to_sequences(message)\n",
        "\n",
        "padded = pad_sequences(seq, maxlen=X.shape[1], dtype='int32', value=0)\n",
        "\n",
        "pred = model.predict(padded)\n",
        "\n",
        "labels = ['0','1','2']\n",
        "print(pred, labels[np.argmax(pred)])"
      ],
      "metadata": {
        "colab": {
          "base_uri": "https://localhost:8080/"
        },
        "id": "dhlxRb0AAh7T",
        "outputId": "3eb5f60d-c7ae-4047-b804-3927d8b4f997"
      },
      "execution_count": null,
      "outputs": [
        {
          "output_type": "stream",
          "name": "stdout",
          "text": [
            "1/1 [==============================] - 0s 27ms/step\n",
            "[[1.4740033e-10 1.0000000e+00 1.2878180e-10]] 1\n"
          ]
        }
      ]
    }
  ]
}